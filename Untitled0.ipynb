{
  "nbformat": 4,
  "nbformat_minor": 0,
  "metadata": {
    "colab": {
      "provenance": [],
      "authorship_tag": "ABX9TyNcuNWQzMiSP4pgiOJQrnvL",
      "include_colab_link": true
    },
    "kernelspec": {
      "name": "python3",
      "display_name": "Python 3"
    },
    "language_info": {
      "name": "python"
    }
  },
  "cells": [
    {
      "cell_type": "markdown",
      "metadata": {
        "id": "view-in-github",
        "colab_type": "text"
      },
      "source": [
        "<a href=\"https://colab.research.google.com/github/Arielhutabarat/Pemerograman-Dasar/blob/main/Untitled0.ipynb\" target=\"_parent\"><img src=\"https://colab.research.google.com/assets/colab-badge.svg\" alt=\"Open In Colab\"/></a>"
      ]
    },
    {
      "cell_type": "code",
      "execution_count": 2,
      "metadata": {
        "colab": {
          "base_uri": "https://localhost:8080/"
        },
        "id": "Dd7HUql8ijoc",
        "outputId": "02f6dcf4-351f-48f3-f247-333753382e9f"
      },
      "outputs": [
        {
          "output_type": "stream",
          "name": "stdout",
          "text": [
            "ariel\n",
            "hutabarat\n",
            "20\n",
            "False\n"
          ]
        }
      ],
      "source": [
        "firstName = \"Ariel\"\n",
        "lastName = \"Hutabarat\"\n",
        "age = 20\n",
        "isMarried = False\n",
        "\n",
        "print (firstName)\n",
        "print (lastName)\n",
        "print (age)\n",
        "print (isMarried)"
      ]
    },
    {
      "cell_type": "code",
      "source": [
        "data_diri = {\n",
        "    \"firstName\": \"Ariel\",\n",
        "    \"lastName\": \"Hutabarat\",\n",
        "    \"age\": 20,\n",
        "    \"isMarried\": False}\n",
        "\n",
        "print (data_diri)"
      ],
      "metadata": {
        "colab": {
          "base_uri": "https://localhost:8080/"
        },
        "id": "eXbPlNBsl8Tn",
        "outputId": "b0c9f08f-7086-420a-80b6-f97be54e03cd"
      },
      "execution_count": 3,
      "outputs": [
        {
          "output_type": "stream",
          "name": "stdout",
          "text": [
            "{'firstName': 'Ariel', 'lastName': 'Hutabarat', 'age': 20, 'isMarried': False}\n"
          ]
        }
      ]
    },
    {
      "cell_type": "code",
      "source": [
        "inspeksi = [\n",
        "    \"pemahaman terhadap rencana dan desain\",\n",
        "    \"ketersediaan bahan dan peralatan\",\n",
        "    \"pengawasan pekerjaan\",\n",
        "    \"kualitas konstruksi\",\n",
        "    \"keselamatan kerja\",\n",
        "    \"koordinasi dengan pemilik proyek\"\n",
        "]\n",
        "\n",
        "print(\"Daftar Inspeksi Proyek:\")\n",
        "for i, item in enumerate(inspeksi, start=1):\n",
        "    print(f\"{i}. {item}\")\n"
      ],
      "metadata": {
        "colab": {
          "base_uri": "https://localhost:8080/"
        },
        "id": "cg-81TbxmZKs",
        "outputId": "0503969d-c882-4108-bde0-c38ef0f481fb"
      },
      "execution_count": 4,
      "outputs": [
        {
          "output_type": "stream",
          "name": "stdout",
          "text": [
            "Daftar Inspeksi Proyek:\n",
            "1. pemahaman terhadap rencana dan desain\n",
            "2. ketersediaan bahan dan peralatan\n",
            "3. pengawasan pekerjaan\n",
            "4. kualitas konstruksi\n",
            "5. keselamatan kerja\n",
            "6. koordinasi dengan pemilik proyek\n"
          ]
        }
      ]
    },
    {
      "cell_type": "code",
      "source": [
        "startTime = {\n",
        "    \"HH\": 9,\n",
        "    \"mm\": 23,\n",
        "    \"ss\": 57}\n",
        "\n",
        "endTime = {\n",
        "    \"HH\": 15,\n",
        "    \"mm\": 25,\n",
        "    \"ss\": 43}\n",
        "\n",
        "print(\"Waktu Datang :\", startTime)\n",
        "print(\"Waktu Pulang :\", endTime)\n"
      ],
      "metadata": {
        "colab": {
          "base_uri": "https://localhost:8080/"
        },
        "id": "kcFq4WPXmb6H",
        "outputId": "9c3edd7f-5f3d-4541-dd45-d015de6348ed"
      },
      "execution_count": 6,
      "outputs": [
        {
          "output_type": "stream",
          "name": "stdout",
          "text": [
            "Waktu Datang : {'HH': 9, 'mm': 23, 'ss': 57}\n",
            "Waktu Pulang : {'HH': 15, 'mm': 25, 'ss': 43}\n"
          ]
        }
      ]
    },
    {
      "cell_type": "code",
      "source": [
        "katalog_A = {\"Panci\", \"Wajan\", \"Sendok\", \"Garpu\"}\n",
        "katalog_B = {\"Piring\", \"Gelas\", \"Sendok\", \"Pisau\"}\n",
        "\n",
        "produk_diskon = (\"Wajan\", \"Pisau\", \"Blender\", \"Piring\")\n",
        "\n",
        "katalog_lengkap = katalog_A.union(katalog_B)\n",
        "\n",
        "produk_promo_aktif = katalog_lengkap.intersection(produk_diskon)\n",
        "\n",
        "print(\"Katalog Lengkap       :\", katalog_lengkap)\n",
        "print(\"Produk Promo Aktif    :\", produk_promo_aktif)"
      ],
      "metadata": {
        "colab": {
          "base_uri": "https://localhost:8080/"
        },
        "id": "6odk9dLCmuN3",
        "outputId": "74418c85-6f1f-4c86-936d-9e8791350122"
      },
      "execution_count": 7,
      "outputs": [
        {
          "output_type": "stream",
          "name": "stdout",
          "text": [
            "Katalog Lengkap       : {'Pisau', 'Gelas', 'Garpu', 'Sendok', 'Piring', 'Wajan', 'Panci'}\n",
            "Produk Promo Aktif    : {'Pisau', 'Piring', 'Wajan'}\n"
          ]
        }
      ]
    }
  ]
}