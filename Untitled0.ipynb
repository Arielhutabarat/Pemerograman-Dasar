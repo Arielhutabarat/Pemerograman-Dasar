{
  "nbformat": 4,
  "nbformat_minor": 0,
  "metadata": {
    "colab": {
      "provenance": [],
      "authorship_tag": "ABX9TyM2X0QFObGbEmsTucogkTOZ",
      "include_colab_link": true
    },
    "kernelspec": {
      "name": "python3",
      "display_name": "Python 3"
    },
    "language_info": {
      "name": "python"
    }
  },
  "cells": [
    {
      "cell_type": "markdown",
      "metadata": {
        "id": "view-in-github",
        "colab_type": "text"
      },
      "source": [
        "<a href=\"https://colab.research.google.com/github/Arielhutabarat/Pemerograman-Dasar/blob/main/Untitled0.ipynb\" target=\"_parent\"><img src=\"https://colab.research.google.com/assets/colab-badge.svg\" alt=\"Open In Colab\"/></a>"
      ]
    },
    {
      "cell_type": "code",
      "source": [
        "nama = \"ariel\"\n",
        "umur = \"20\"\n",
        "jurusan = \"RPE\"\n",
        "semester = 3\n",
        "matakuliah = 'Pemerograman Dasar'\n",
        "status_kuliah = False\n",
        "\n",
        "\n"
      ],
      "metadata": {
        "id": "OwpggypBg2hX"
      },
      "execution_count": 1,
      "outputs": []
    }
  ]
}