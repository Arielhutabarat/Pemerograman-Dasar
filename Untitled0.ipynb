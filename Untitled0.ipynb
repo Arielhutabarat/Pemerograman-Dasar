{
  "nbformat": 4,
  "nbformat_minor": 0,
  "metadata": {
    "colab": {
      "provenance": [],
      "authorship_tag": "ABX9TyNoK6S5jv5WPgrLBg8xCyj0",
      "include_colab_link": true
    },
    "kernelspec": {
      "name": "python3",
      "display_name": "Python 3"
    },
    "language_info": {
      "name": "python"
    }
  },
  "cells": [
    {
      "cell_type": "markdown",
      "metadata": {
        "id": "view-in-github",
        "colab_type": "text"
      },
      "source": [
        "<a href=\"https://colab.research.google.com/github/Arielhutabarat/Pemerograman-Dasar/blob/main/Untitled0.ipynb\" target=\"_parent\"><img src=\"https://colab.research.google.com/assets/colab-badge.svg\" alt=\"Open In Colab\"/></a>"
      ]
    },
    {
      "cell_type": "code",
      "source": [
        "# Biodata Saya\n",
        "\n",
        "nama = \"ariel\"\n",
        "umur = \"20\"\n",
        "jurusan = \"RPE\"\n",
        "semester = 3\n",
        "matakuliah = 'Pemerograman Dasar'\n",
        "status_kuliah = False\n",
        "\n",
        "print (nama)\n",
        "print (umur)\n",
        "print (jurusan)\n",
        "print (semester)\n",
        "print (matakuliah)\n",
        "print (status_kuliah)\n",
        "\n",
        "\n",
        "\n"
      ],
      "metadata": {
        "colab": {
          "base_uri": "https://localhost:8080/"
        },
        "id": "OwpggypBg2hX",
        "outputId": "87ca79dc-397f-4e68-e708-84ee521edf5a"
      },
      "execution_count": null,
      "outputs": [
        {
          "output_type": "stream",
          "name": "stdout",
          "text": [
            "ariel\n",
            "20\n",
            "RPE\n",
            "3\n",
            "Pemerograman Dasar\n",
            "False\n"
          ]
        }
      ]
    },
    {
      "cell_type": "code",
      "source": [
        "# deklarasi variabel list\n",
        "number = [23, 45, 15, 34]\n",
        "# cara mengakses variabel list\n",
        "number [0]   # 23\n",
        "number [1]   # 45\n",
        "number [2]   # 15\n",
        "number [3]   # 34\n",
        "# cara mengubah nilai elemen dalam variabel list\n",
        "number [2]   # 51\n",
        "number [2]   # 51\n",
        "\n",
        "print (number[1])\n",
        "print (number[2])\n",
        "print (number[3])\n",
        ""
      ],
      "metadata": {
        "colab": {
          "base_uri": "https://localhost:8080/"
        },
        "id": "FwgOgorbXoIq",
        "outputId": "f58eec3a-eb52-4b02-c2de-ec8e9ad99912"
      },
      "execution_count": 4,
      "outputs": [
        {
          "output_type": "stream",
          "name": "stdout",
          "text": [
            "45\n",
            "15\n",
            "34\n"
          ]
        }
      ]
    },
    {
      "cell_type": "code",
      "source": [
        "# deklarasi variabel list number\n",
        "numbers = (1, 2, 3)\n",
        "\n",
        "# menambahkan elemen di indeks ke-4\n",
        "numbers-insert(4, 5) # (1, 2, 3, 5)\n",
        "\n",
        "# mengubah elemen di indeks ke-4\n",
        "numbers [3] = 4 # [1, 2, 3, 4]\n",
        "\n",
        "# menghapus elemen di indeks ke-2\n",
        "numbers.pop(2) # [1, 2, 3, 4]\n",
        "\n",
        "#print setiap hasil perubahan dan amati hasilnya\n",
        "print (numbers)\n",
        "print (numbers-insert)\n",
        "print (numbers(3))\n",
        "print (numbers.pop(2))\n"
      ],
      "metadata": {
        "colab": {
          "base_uri": "https://localhost:8080/",
          "height": 211
        },
        "id": "HaxtJCYkdkHP",
        "outputId": "3ee76c66-9188-4493-a6a9-78d007e04ea3"
      },
      "execution_count": 7,
      "outputs": [
        {
          "output_type": "error",
          "ename": "NameError",
          "evalue": "name 'insert' is not defined",
          "traceback": [
            "\u001b[0;31m---------------------------------------------------------------------------\u001b[0m",
            "\u001b[0;31mNameError\u001b[0m                                 Traceback (most recent call last)",
            "\u001b[0;32m/tmp/ipython-input-136430819.py\u001b[0m in \u001b[0;36m<cell line: 0>\u001b[0;34m()\u001b[0m\n\u001b[1;32m      3\u001b[0m \u001b[0;34m\u001b[0m\u001b[0m\n\u001b[1;32m      4\u001b[0m \u001b[0;31m# menambahkan elemen di indeks ke-4\u001b[0m\u001b[0;34m\u001b[0m\u001b[0;34m\u001b[0m\u001b[0m\n\u001b[0;32m----> 5\u001b[0;31m \u001b[0mnumbers\u001b[0m\u001b[0;34m-\u001b[0m\u001b[0minsert\u001b[0m\u001b[0;34m(\u001b[0m\u001b[0;36m4\u001b[0m\u001b[0;34m,\u001b[0m \u001b[0;36m5\u001b[0m\u001b[0;34m)\u001b[0m \u001b[0;31m# (1, 2, 3, 5)\u001b[0m\u001b[0;34m\u001b[0m\u001b[0;34m\u001b[0m\u001b[0m\n\u001b[0m\u001b[1;32m      6\u001b[0m \u001b[0;34m\u001b[0m\u001b[0m\n\u001b[1;32m      7\u001b[0m \u001b[0;31m# mengubah elemen di indeks ke-4\u001b[0m\u001b[0;34m\u001b[0m\u001b[0;34m\u001b[0m\u001b[0m\n",
            "\u001b[0;31mNameError\u001b[0m: name 'insert' is not defined"
          ]
        }
      ]
    }
  ]
}