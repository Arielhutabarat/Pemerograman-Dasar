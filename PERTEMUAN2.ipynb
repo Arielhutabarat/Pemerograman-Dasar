{
  "nbformat": 4,
  "nbformat_minor": 0,
  "metadata": {
    "colab": {
      "provenance": [],
      "authorship_tag": "ABX9TyOKsbCdGQW32a5jGd1HtJQC",
      "include_colab_link": true
    },
    "kernelspec": {
      "name": "python3",
      "display_name": "Python 3"
    },
    "language_info": {
      "name": "python"
    }
  },
  "cells": [
    {
      "cell_type": "markdown",
      "metadata": {
        "id": "view-in-github",
        "colab_type": "text"
      },
      "source": [
        "<a href=\"https://colab.research.google.com/github/Arielhutabarat/Pemerograman-Dasar/blob/main/PERTEMUAN2.ipynb\" target=\"_parent\"><img src=\"https://colab.research.google.com/assets/colab-badge.svg\" alt=\"Open In Colab\"/></a>"
      ]
    },
    {
      "cell_type": "code",
      "execution_count": null,
      "metadata": {
        "colab": {
          "base_uri": "https://localhost:8080/"
        },
        "id": "Dd7HUql8ijoc",
        "outputId": "9ec16a89-c89d-4bad-f4a1-74ab86c7c228"
      },
      "outputs": [
        {
          "output_type": "stream",
          "name": "stdout",
          "text": [
            "Ariel\n",
            "Hutabarat\n",
            "20\n",
            "False\n"
          ]
        }
      ],
      "source": [
        "firstName = \"Ariel\"\n",
        "lastName = \"Hutabarat\"\n",
        "age = 20\n",
        "isMarried = False\n",
        "\n",
        "print (firstName)\n",
        "print (lastName)\n",
        "print (age)\n",
        "print (isMarried)"
      ]
    },
    {
      "cell_type": "code",
      "source": [
        "data_diri = {\n",
        "    \"firstName\": \"Ariel\",\n",
        "    \"lastName\": \"Hutabarat\",\n",
        "    \"age\": 20,\n",
        "    \"isMarried\": False}\n",
        "\n",
        "print (data_diri)"
      ],
      "metadata": {
        "colab": {
          "base_uri": "https://localhost:8080/"
        },
        "id": "eXbPlNBsl8Tn",
        "outputId": "d2868877-c639-46f6-9f82-f832d34dbaec"
      },
      "execution_count": null,
      "outputs": [
        {
          "output_type": "stream",
          "name": "stdout",
          "text": [
            "{'firstName': 'Ariel', 'lastName': 'Hutabarat', 'age': 20, 'isMarried': False}\n"
          ]
        }
      ]
    },
    {
      "cell_type": "code",
      "source": [
        "inspeksi = [\n",
        "    \"pemahaman terhadap rencana dan desain\",\n",
        "    \"ketersediaan bahan dan peralatan\",\n",
        "    \"pengawasan pekerjaan\",\n",
        "    \"kualitas konstruksi\",\n",
        "    \"keselamatan kerja\",\n",
        "    \"koordinasi dengan pemilik proyek\"\n",
        "]\n",
        "\n",
        "print(\"Daftar Inspeksi Proyek:\")\n",
        "for i, item in enumerate(inspeksi, start=1):\n",
        "    print(f\"{i}. {item}\")\n"
      ],
      "metadata": {
        "colab": {
          "base_uri": "https://localhost:8080/"
        },
        "id": "cg-81TbxmZKs",
        "outputId": "46b3c5e0-d30b-46f0-c477-d361193873b8"
      },
      "execution_count": null,
      "outputs": [
        {
          "output_type": "stream",
          "name": "stdout",
          "text": [
            "Daftar Inspeksi Proyek:\n",
            "1. pemahaman terhadap rencana dan desain\n",
            "2. ketersediaan bahan dan peralatan\n",
            "3. pengawasan pekerjaan\n",
            "4. kualitas konstruksi\n",
            "5. keselamatan kerja\n",
            "6. koordinasi dengan pemilik proyek\n"
          ]
        }
      ]
    },
    {
      "cell_type": "code",
      "source": [
        "startTime = {\n",
        "    \"HH\": 9,\n",
        "    \"mm\": 23,\n",
        "    \"ss\": 57}\n",
        "\n",
        "endTime = {\n",
        "    \"HH\": 15,\n",
        "    \"mm\": 25,\n",
        "    \"ss\": 43}\n",
        "\n",
        "print(\"Waktu Datang :\", startTime)\n",
        "print(\"Waktu Pulang :\", endTime)\n"
      ],
      "metadata": {
        "colab": {
          "base_uri": "https://localhost:8080/"
        },
        "id": "kcFq4WPXmb6H",
        "outputId": "b9711c97-0f67-4daf-d39b-464cf0d738f8"
      },
      "execution_count": null,
      "outputs": [
        {
          "output_type": "stream",
          "name": "stdout",
          "text": [
            "Waktu Datang : {'HH': 9, 'mm': 23, 'ss': 57}\n",
            "Waktu Pulang : {'HH': 15, 'mm': 25, 'ss': 43}\n"
          ]
        }
      ]
    },
    {
      "cell_type": "code",
      "source": [
        "katalog_A = {\"Panci\", \"Wajan\", \"Sendok\", \"Garpu\"}\n",
        "katalog_B = {\"Piring\", \"Gelas\", \"Sendok\", \"Pisau\"}\n",
        "\n",
        "produk_diskon = (\"Wajan\", \"Pisau\", \"Blender\", \"Piring\")\n",
        "\n",
        "katalog_lengkap = katalog_A.union(katalog_B)\n",
        "\n",
        "produk_promo_aktif = katalog_lengkap.intersection(produk_diskon)\n",
        "\n",
        "print(\"Katalog Lengkap       :\", katalog_lengkap)\n",
        "print(\"Produk Promo Aktif    :\", produk_promo_aktif)"
      ],
      "metadata": {
        "colab": {
          "base_uri": "https://localhost:8080/"
        },
        "id": "6odk9dLCmuN3",
        "outputId": "b9a95dc1-ea4b-4632-ae3b-0c3bbee66a14"
      },
      "execution_count": null,
      "outputs": [
        {
          "output_type": "stream",
          "name": "stdout",
          "text": [
            "Katalog Lengkap       : {'Pisau', 'Garpu', 'Wajan', 'Panci', 'Gelas', 'Sendok', 'Piring'}\n",
            "Produk Promo Aktif    : {'Piring', 'Pisau', 'Wajan'}\n"
          ]
        }
      ]
    },
    {
      "cell_type": "code",
      "source": [
        "# deklarasi variabel list\n",
        "numbers = [23, 43, 15, 34]\n",
        "# cara mengakses elemen dalam variabel list\n",
        "numbers[0] # 23\n",
        "numbers[1] # 43\n",
        "numbers[2] # 15\n",
        "numbers[3] # 34\n",
        "# cara mengubah nilai elemen dalam variabel list\n",
        "numbers[2] # 51\n",
        "numbers[2] # 51\n",
        "\n",
        "print(numbers[0])\n",
        "print(numbers[1])\n",
        "print(numbers[2])\n",
        "print(numbers[3])\n",
        "\n",
        "print(numbers[2])\n",
        "print(numbers[2])\n",
        "\n"
      ],
      "metadata": {
        "colab": {
          "base_uri": "https://localhost:8080/"
        },
        "id": "MfBxAlF5QHOn",
        "outputId": "70d24554-83e6-4274-c288-23fe066f5e5f"
      },
      "execution_count": null,
      "outputs": [
        {
          "output_type": "stream",
          "name": "stdout",
          "text": [
            "23\n",
            "43\n",
            "15\n",
            "34\n",
            "15\n",
            "15\n"
          ]
        }
      ]
    },
    {
      "cell_type": "code",
      "source": [
        "# deklarasi variabel list numbers\n",
        "numbers = [1, 2, 3]\n",
        "\n",
        "# menambahkan elemen di indeks ke-4\n",
        "numbers.insert(4, 5) # [1, 2, 3, 5]\n",
        "\n",
        "# mengubah elemen di indeks ke-3\n",
        "numbers[3] = 4 # [1, 2, 3, 4]\n",
        "\n",
        "# menghapus elemen di indeks ke-2\n",
        "numbers.pop(2) # [1, 2, 4]\n",
        "\n",
        "print(f\"original list: {numbers}\" )\n",
        "print(f\"After insert(4, 5) : {numbers}\")\n",
        "print(f\"After numbers[3]) = 4: {numbers}\")\n",
        "print(f\"After pop(2: {numbers}\")"
      ],
      "metadata": {
        "colab": {
          "base_uri": "https://localhost:8080/"
        },
        "id": "cUXJpQAsUKwx",
        "outputId": "d19b1a85-745c-4ef8-feff-f387ce5b06e0"
      },
      "execution_count": 65,
      "outputs": [
        {
          "output_type": "stream",
          "name": "stdout",
          "text": [
            "original list: [1, 2, 4]\n",
            "After insert(4, 5) : [1, 2, 4]\n",
            "After numbers[3]) = 4: [1, 2, 4]\n",
            "After pop(2: [1, 2, 4]\n"
          ]
        }
      ]
    },
    {
      "cell_type": "code",
      "source": [
        "# deklarasi variabel list\n",
        "myList = [1,\"rumah\", 4.5, True, [\"kamar mandi\", \"kamar tidur\"]]\n",
        "\n",
        "# cara mengakses elemen dalam variabel list\n",
        "myList [0]  # 1\n",
        "myList [1]  # \"Rumah\"\n",
        "myList [3]  # True\n",
        "myList [4]  # [\"kamar mandi\", \"Kamar tidur\"]\n",
        "\n",
        "# cara mengakses elemen dalam sublist\n",
        "myList [4][0]  # \"Kamar mandi\"\n",
        "myList [4][1]  # \" Kamar tidur\"\n",
        "\n",
        "print(myList)\n",
        "print(myList[0])\n",
        "print(myList[1])\n",
        "print(myList[3])\n",
        "print(myList[4])\n",
        "print(myList[4][0])\n",
        "print(myList[4][1])"
      ],
      "metadata": {
        "colab": {
          "base_uri": "https://localhost:8080/"
        },
        "id": "uy1JoekQVPRh",
        "outputId": "eed9a43c-ee41-4f32-a4dc-9ba416d1e306"
      },
      "execution_count": null,
      "outputs": [
        {
          "output_type": "stream",
          "name": "stdout",
          "text": [
            "[1, 'rumah', 4.5, True, ['kamar mandi', 'kamar tidur']]\n",
            "1\n",
            "rumah\n",
            "True\n",
            "['kamar mandi', 'kamar tidur']\n",
            "kamar mandi\n",
            "kamar tidur\n"
          ]
        }
      ]
    },
    {
      "cell_type": "code",
      "source": [
        "# deklarasi variabel tuple\n",
        "numbers = (23, 43, 15, 34)\n",
        "\n",
        "# cara mengakses elemen dalam variabel tuple\n",
        "numbers[0]   #23\n",
        "numbers[1]   #43\n",
        "numbers[2]   #15\n",
        "\n",
        "print(numbers)\n",
        "print(numbers[0])\n",
        "print(numbers[1])\n",
        "print(numbers[2])"
      ],
      "metadata": {
        "colab": {
          "base_uri": "https://localhost:8080/"
        },
        "id": "5Ee9ELO4c67L",
        "outputId": "9cb93f0f-bd56-420a-da9e-d2d292692e36"
      },
      "execution_count": null,
      "outputs": [
        {
          "output_type": "stream",
          "name": "stdout",
          "text": [
            "(23, 43, 15, 34)\n",
            "23\n",
            "43\n",
            "15\n"
          ]
        }
      ]
    }
  ]
}