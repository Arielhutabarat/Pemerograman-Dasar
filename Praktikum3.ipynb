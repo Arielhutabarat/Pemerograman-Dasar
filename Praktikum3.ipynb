{
  "nbformat": 4,
  "nbformat_minor": 0,
  "metadata": {
    "colab": {
      "provenance": [],
      "authorship_tag": "ABX9TyP2TJXF6+GEzehvFRQa9lbM",
      "include_colab_link": true
    },
    "kernelspec": {
      "name": "python3",
      "display_name": "Python 3"
    },
    "language_info": {
      "name": "python"
    }
  },
  "cells": [
    {
      "cell_type": "markdown",
      "metadata": {
        "id": "view-in-github",
        "colab_type": "text"
      },
      "source": [
        "<a href=\"https://colab.research.google.com/github/Arielhutabarat/Pemerograman-Dasar/blob/main/Praktikum3.ipynb\" target=\"_parent\"><img src=\"https://colab.research.google.com/assets/colab-badge.svg\" alt=\"Open In Colab\"/></a>"
      ]
    },
    {
      "cell_type": "code",
      "source": [
        "# --- Data Input ---\n",
        "\n",
        "# 1. Hitung Subtotal\n",
        "# Menjumlahkan semua harga item dalam daftar_belanja.\n",
        "subtotal = sum(daftar_belanja)\n",
        "print(f\"1. Subtotal: Rp {subtotal:,.2f}\")\n",
        "# 2. Evaluasi Syarat Diskon\n",
        "# Syarat: anggota (True) DAN subtotal > 100.000.\n",
        "# Ekspresi logika ini akan menghasilkan nilai True atau False.\n",
        "dapat_diskon = status_anggota and subtotal > 100000\n",
        "print(f\"2. Apakah dapat diskon? -> {dapat_diskon}\")\n",
        "# 3. Hitung Jumlah Diskon\n",
        "# Jika syarat pada langkah 2 terpenuhi (True), hitung diskon 15%.\n",
        "# Jika tidak, diskonnya adalah 0.\n",
        "if dapat_diskon:\n",
        "    jumlah_diskon = 0.15 * subtotal\n",
        "else:\n",
        "    jumlah_diskon = 0\n",
        "print(f\"3. Jumlah Diskon (15%): Rp {jumlah_diskon:,.2f}\")\n",
        "# 4. Hitung Harga Setelah Diskon\n",
        "# Mengurangi subtotal dengan jumlah diskon yang didapat.\n",
        "harga_setelah_diskon = subtotal - jumlah_diskon\n",
        "print(f\"4. Harga Setelah Diskon: Rp {harga_setelah_diskon:,.2f}\")\n",
        "# 5. Hitung PPN\n",
        "# Menghitung PPN 11% dari harga SETELAH diskon.\n",
        "ppn = 0.11 * harga_setelah_diskon\n",
        "print(f\"5. PPN (11%): Rp {ppn:,.2f}\")\n",
        "# 6. Hitung Total Akhir\n",
        "# Menambahkan harga setelah diskon dengan PPN.\n",
        "total_akhir = harga_setelah_diskon + ppn\n",
        "print(f\"6. Total yang Harus Dibayar: Rp {total_akhir:,.2f}\")\n",
        "\n",
        "print(\"==================================\")"
      ],
      "metadata": {
        "colab": {
          "base_uri": "https://localhost:8080/"
        },
        "id": "FADEWZ6vvcwW",
        "outputId": "9739c6e8-3600-49cc-e1e3-9192f0abae2c"
      },
      "execution_count": 5,
      "outputs": [
        {
          "output_type": "stream",
          "name": "stdout",
          "text": [
            "===== STRUK PEMBELIAN KOPI =====\n",
            "Daftar Belanja: [25000, 32000, 18000, 45000]\n",
            "Status Anggota: True\n",
            "\n",
            "1. Subtotal: Rp 120,000.00\n",
            "2. Apakah dapat diskon? -> True\n",
            "3. Jumlah Diskon (15%): Rp 18,000.00\n",
            "4. Harga Setelah Diskon: Rp 102,000.00\n",
            "5. PPN (11%): Rp 11,220.00\n",
            "6. Total yang Harus Dibayar: Rp 113,220.00\n",
            "==================================\n"
          ]
        }
      ]
    }
  ]
}