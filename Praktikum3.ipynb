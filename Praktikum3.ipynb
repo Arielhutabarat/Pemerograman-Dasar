{
  "nbformat": 4,
  "nbformat_minor": 0,
  "metadata": {
    "colab": {
      "provenance": [],
      "authorship_tag": "ABX9TyMfO9dhx9gkHPlRhHr8OrOv",
      "include_colab_link": true
    },
    "kernelspec": {
      "name": "python3",
      "display_name": "Python 3"
    },
    "language_info": {
      "name": "python"
    }
  },
  "cells": [
    {
      "cell_type": "markdown",
      "metadata": {
        "id": "view-in-github",
        "colab_type": "text"
      },
      "source": [
        "<a href=\"https://colab.research.google.com/github/Arielhutabarat/Pemerograman-Dasar/blob/main/Praktikum3.ipynb\" target=\"_parent\"><img src=\"https://colab.research.google.com/assets/colab-badge.svg\" alt=\"Open In Colab\"/></a>"
      ]
    },
    {
      "cell_type": "code",
      "source": [
        "total = input(\"Berapa porsi makan yang Anda beli? : \")\n",
        "Nama = input(\"Siapa Nama Pelanggan ? : \")\n",
        ""
      ],
      "metadata": {
        "colab": {
          "base_uri": "https://localhost:8080/"
        },
        "id": "BwdT_GI-xyyU",
        "outputId": "17de02e4-d007-4ada-9b25-bafa020bcfac"
      },
      "execution_count": 8,
      "outputs": [
        {
          "name": "stdout",
          "output_type": "stream",
          "text": [
            "Berapa porsi makan yang Anda beli? : 1\n",
            "Siapa Nama Pelanggan ? : Ariel\n"
          ]
        }
      ]
    },
    {
      "cell_type": "code",
      "source": [
        "food = \"Mi ayam bakso\"\n",
        "print(\"Ariel sedang memesan\", food)\n",
        ""
      ],
      "metadata": {
        "colab": {
          "base_uri": "https://localhost:8080/"
        },
        "id": "A26-2LCbySzH",
        "outputId": "b40c04dc-43d6-419c-898e-fe314a4af7b5"
      },
      "execution_count": 9,
      "outputs": [
        {
          "output_type": "stream",
          "name": "stdout",
          "text": [
            "Ariel sedang memesan Mi ayam bakso\n"
          ]
        }
      ]
    },
    {
      "cell_type": "code",
      "source": [
        "food = \"Mi ayam bakso\"\n",
        "print(\"Ariel sedang memesan\", food)\n",
        "print(\"Ariel sedang memesan \" + food)\n",
        "print(\"Ariel sedang memesan %s\" % (food))\n",
        ""
      ],
      "metadata": {
        "colab": {
          "base_uri": "https://localhost:8080/"
        },
        "id": "knXFXie6yiiI",
        "outputId": "940c4583-f590-4523-cfef-17481193d943"
      },
      "execution_count": 33,
      "outputs": [
        {
          "output_type": "stream",
          "name": "stdout",
          "text": [
            "Ariel sedang memesan Mi ayam bakso\n",
            "Ariel sedang memesan Mi ayam bakso\n",
            "Ariel sedang memesan Mi ayam bakso\n"
          ]
        }
      ]
    },
    {
      "cell_type": "code",
      "source": [
        "a = 20\n",
        "b = 5\n",
        "print(\"Penjumlahan:\", a + b)\n",
        "print(\"Pengurangan:\", a - b)\n",
        "print(\"Perkalian:\", a * b)\n",
        "print(\"Pembagian:\", a / b)\n"
      ],
      "metadata": {
        "colab": {
          "base_uri": "https://localhost:8080/"
        },
        "id": "nBq4QicpytO_",
        "outputId": "d11634a7-2ec8-4b8d-b8ad-760df042d67b"
      },
      "execution_count": 11,
      "outputs": [
        {
          "output_type": "stream",
          "name": "stdout",
          "text": [
            "Penjumlahan: 25\n",
            "Pengurangan: 15\n",
            "Perkalian: 100\n",
            "Pembagian: 4.0\n"
          ]
        }
      ]
    },
    {
      "cell_type": "code",
      "source": [
        "harga_makan = int(input(\"Berapa harga mi ayam per porsi? \"))\n",
        "jumlah_makan = int(input(\"Berapa porsi yang Anda beli? \"))\n",
        "total_makan = harga_makan * jumlah_makan\n",
        "\n",
        "print(f\"Harga makan per porsi = {harga_makan}, totalnya adalah {total_makan}\")"
      ],
      "metadata": {
        "colab": {
          "base_uri": "https://localhost:8080/"
        },
        "id": "eN62EKgrywcy",
        "outputId": "ebaebbf4-1ebf-4792-9053-f7c381660dd1"
      },
      "execution_count": 12,
      "outputs": [
        {
          "output_type": "stream",
          "name": "stdout",
          "text": [
            "Berapa harga mi ayam per porsi? 18000\n",
            "Berapa porsi yang Anda beli? 2\n",
            "Harga makan per porsi = 18000, totalnya adalah 36000\n"
          ]
        }
      ]
    },
    {
      "cell_type": "code",
      "source": [
        "# konversi waktu\n",
        "total_detik = 358200\n",
        "\n",
        "jam = total_detik // 3600\n",
        "sisa_detik = total_detik % 3600\n",
        "menit = sisa_detik // 60\n",
        "detik = sisa_detik % 60\n",
        "\n",
        "print(f\"Hasil Konversi: {jam} Jam, {menit} Menit, {detik} Detik\")"
      ],
      "metadata": {
        "colab": {
          "base_uri": "https://localhost:8080/"
        },
        "id": "TObD00fCzCNO",
        "outputId": "721f7fad-58d9-43b4-ddd2-5f8e82f6dd4f"
      },
      "execution_count": 28,
      "outputs": [
        {
          "output_type": "stream",
          "name": "stdout",
          "text": [
            "Hasil Konversi: 99 Jam, 30 Menit, 0 Detik\n"
          ]
        }
      ]
    },
    {
      "cell_type": "code",
      "source": [
        "tugas = 80\n",
        "uts = 70\n",
        "uas = 90\n",
        "nilai_akhir = (0.3 * tugas) + (0.3 * uts) + (0.4 * uas)\n",
        "print(\"Nilai akhir =\", nilai_akhir)\n",
        ""
      ],
      "metadata": {
        "colab": {
          "base_uri": "https://localhost:8080/"
        },
        "id": "rX0clF84zJdt",
        "outputId": "28eb0008-3283-4321-d350-230cb2cbfbff"
      },
      "execution_count": 24,
      "outputs": [
        {
          "output_type": "stream",
          "name": "stdout",
          "text": [
            "Nilai akhir = 81.0\n"
          ]
        }
      ]
    },
    {
      "cell_type": "code",
      "source": [
        "tugas = float(input(\"Masukkan nilai tugas: \"))\n",
        "uts = float(input(\"Masukkan nilai UTS: \"))\n",
        "uas = float(input(\"Masukkan nilai UAS: \"))\n",
        "kuis = float(input(\"Masukkan nilai kuis: \"))\n",
        "praktikum = float(input(\"Masukkan nilai praktikum: \"))\n",
        "\n",
        "nilai_mahasiswa = (0.2 * tugas) + (0.25 * uts) + (0.3 * uas) + (0.15 * kuis) + (0.1 * praktikum)\n",
        "standard_kelulusan = float(input(\"Masukkan nilai standar kelulusan: \"))\n",
        "apakah_lulus = nilai_mahasiswa >= standard_kelulusan\n",
        "perlu_remedial = nilai_mahasiswa < standard_kelulusan\n",
        "\n",
        "print(f\"Nilai Mahasiswa: {nilai_mahasiswa}\")\n",
        "print(f\"Standar Kelulusan: {standard_kelulusan}\")\n",
        "print(f\"Apakah Mahasiswa Lulus? {apakah_lulus}\")\n",
        "print(f\"Perlu Remedial? {perlu_remedial}\")"
      ],
      "metadata": {
        "colab": {
          "base_uri": "https://localhost:8080/"
        },
        "id": "IjOd1WZxzQgY",
        "outputId": "8addeda0-3f52-4b27-8492-094e2da58b6e"
      },
      "execution_count": 15,
      "outputs": [
        {
          "output_type": "stream",
          "name": "stdout",
          "text": [
            "Masukkan nilai tugas: 90\n",
            "Masukkan nilai UTS: 80\n",
            "Masukkan nilai UAS: 85\n",
            "Masukkan nilai kuis: 100\n",
            "Masukkan nilai praktikum: 100\n",
            "Masukkan nilai standar kelulusan: 80\n",
            "Nilai Mahasiswa: 88.5\n",
            "Standar Kelulusan: 80.0\n",
            "Apakah Mahasiswa Lulus? True\n",
            "Perlu Remedial? False\n"
          ]
        }
      ]
    },
    {
      "cell_type": "code",
      "source": [
        "belanja = 2000000\n",
        "diskon = (0, 0.35 * belanja)[belanja > 1000000]\n",
        "\n",
        "total_harga = belanja - diskon\n",
        "\n",
        "print(\"Total harga setelah diskon =\", total_harga)"
      ],
      "metadata": {
        "colab": {
          "base_uri": "https://localhost:8080/"
        },
        "id": "acYmq1tpz3Vl",
        "outputId": "1922bdc5-5c5d-4a70-cc3a-d99d9fd3ebcd"
      },
      "execution_count": 16,
      "outputs": [
        {
          "output_type": "stream",
          "name": "stdout",
          "text": [
            "Total harga setelah diskon = 1300000.0\n"
          ]
        }
      ]
    },
    {
      "cell_type": "code",
      "source": [
        "def is_tahun_kabisat(tahun):\n",
        "    if tahun % 400 == 0:\n",
        "        return True\n",
        "    elif tahun % 4 == 0 and tahun % 100 != 0:\n",
        "        return True\n",
        "    else:\n",
        "        return False\n",
        "\n",
        "tahun_input = int(input(\"Masukkan tahun: \"))\n",
        "\n",
        "if is_tahun_kabisat(tahun_input):\n",
        "    print(f\"{tahun_input} adalah tahun kabisat.\")\n",
        "else:\n",
        "    print(f\"{tahun_input} bukan tahun kabisat.\")\n"
      ],
      "metadata": {
        "colab": {
          "base_uri": "https://localhost:8080/"
        },
        "id": "OV_2U4kKz-JK",
        "outputId": "6c71628f-1331-4ef1-ab7c-35a144576c17"
      },
      "execution_count": 21,
      "outputs": [
        {
          "output_type": "stream",
          "name": "stdout",
          "text": [
            "Masukkan tahun: 2028\n",
            "2028 adalah tahun kabisat.\n"
          ]
        }
      ]
    }
  ]
}